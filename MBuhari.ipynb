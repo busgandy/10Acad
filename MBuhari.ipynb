{
  "nbformat": 4,
  "nbformat_minor": 0,
  "metadata": {
    "colab": {
      "name": "MBuhari.ipynb",
      "provenance": [],
      "authorship_tag": "ABX9TyOgjnswakr0X65mKVmv++qE",
      "include_colab_link": true
    },
    "kernelspec": {
      "name": "python3",
      "display_name": "Python 3"
    }
  },
  "cells": [
    {
      "cell_type": "markdown",
      "metadata": {
        "id": "view-in-github",
        "colab_type": "text"
      },
      "source": [
        "<a href=\"https://colab.research.google.com/github/busgandy/10Acad/blob/master/MBuhari.ipynb\" target=\"_parent\"><img src=\"https://colab.research.google.com/assets/colab-badge.svg\" alt=\"Open In Colab\"/></a>"
      ]
    },
    {
      "cell_type": "code",
      "metadata": {
        "id": "JIjVyJOolstJ"
      },
      "source": [
        ""
      ],
      "execution_count": null,
      "outputs": []
    },
    {
      "cell_type": "code",
      "metadata": {
        "id": "WabRDmLWl6XR"
      },
      "source": [
        "# Importing the necessary modules\n",
        "import tweepy\n",
        "from tweepy.streaming import StreamListener\n",
        "from tweepy import OAuthHandler\n",
        "from tweepy import Stream\n",
        "import logging"
      ],
      "execution_count": 26,
      "outputs": []
    },
    {
      "cell_type": "code",
      "metadata": {
        "id": "jgyAWfBXl-Rc"
      },
      "source": [
        ""
      ],
      "execution_count": 3,
      "outputs": []
    },
    {
      "cell_type": "code",
      "metadata": {
        "id": "kWAn1R2xmFb3"
      },
      "source": [
        ""
      ],
      "execution_count": 4,
      "outputs": []
    },
    {
      "cell_type": "code",
      "metadata": {
        "id": "_58K-C58mY5s",
        "outputId": "a9ba4f87-0066-4c98-a964-28824df10044",
        "colab": {
          "base_uri": "https://localhost:8080/",
          "height": 33
        }
      },
      "source": [
        "consumer_key = ('g8691raFemDCQ7HwykRvLC7Mt')\n",
        "consumer_secret = ('ijwX1HkhQ9RsluYqpMzWsr4MaVKTtOXfhhd93ie2Ud0UnE61WO')\n",
        "access_token = ('1153292394000998400-Ui2BP65Yi7GNmVbTeR0oB1nGbN3xsT')\n",
        "access_token_secret = ('nrZAJ1Dk8Z96SnFy0IkScIAi1geuWKdvY84w4uNFHf1ac')\n",
        "\n",
        "auth = tweepy.OAuthHandler(consumer_key, consumer_secret)\n",
        "auth.set_access_token(access_token, access_token_secret)\n",
        "api = tweepy.API(auth)\n",
        "\n",
        "name = (\"@MBuhari\")\n",
        "tweet_count = (1)\n",
        "results = api.user_timeline(id=name, count=tweet_count)[0]\n",
        "tweet = api.user_timeline(id = name, count = 1)[0]\n",
        "# Check if there is a new tweet\n",
        "while True:\n",
        "  # Checks the last post\n",
        "  results = api.user_timeline(id=name, count=tweet_count)[0]\n",
        "\n",
        "  last_post = results.text\n",
        "  # Checks if the last post is not the same with the new post\n",
        "  if last_post != last_post:\n",
        "    # Retweets the last post\n",
        "    firstTweet = api.user_timeline(\"MBuhari\")[0]\n",
        "    now_tweet = firstTweet.text\n",
        "    # Update my account status\n",
        "    api.update_status(\"Test tweet from Tweepy Python\" + (now_tweet))\n",
        "\n",
        "  else:\n",
        "    break\n",
        "  break\n",
        " \n",
        "\n",
        "\n"
      ],
      "execution_count": 51,
      "outputs": [
        {
          "output_type": "stream",
          "text": [
            "Today on behalf of Nigeria I signed the Instrument of Ratification of the Doha Amendment of the Kyoto Protocol to t… https://t.co/zxNZZCET0C\n"
          ],
          "name": "stdout"
        }
      ]
    },
    {
      "cell_type": "code",
      "metadata": {
        "id": "nNX7YcPkud-T",
        "outputId": "38b3b8e0-fa83-497a-ce2f-a1f3c68f4c6e",
        "colab": {
          "base_uri": "https://localhost:8080/",
          "height": 423
        }
      },
      "source": [
        "user = api.get_user(\"MBuhari\")\n",
        "\n",
        "print(\"User details:\")\n",
        "print(user.name)\n",
        "print(user.description)\n",
        "print(user.location)\n",
        "\n",
        "print(\"Last 20 Followers:\")\n",
        "for follower in user.followers():\n",
        "  new_list = []\n",
        "  new_list.append(follower.name)\n",
        "  print(new_list)\n",
        "    #print(follower.name)"
      ],
      "execution_count": 34,
      "outputs": [
        {
          "output_type": "stream",
          "text": [
            "User details:\n",
            "Muhammadu Buhari\n",
            "This is the official account of Muhammadu Buhari, President of Nigeria\n",
            "\n",
            "Last 20 Followers:\n",
            "['Wisdom Anaele']\n",
            "['de_real_aruoriwo🇳🇬']\n",
            "['Unique Izuchukwu']\n",
            "['Ayedun Abdullahi']\n",
            "['swan']\n",
            "['Eme Royalty 🇳🇬🇸🇪🇬🇧']\n",
            "['Ajayi Femi']\n",
            "['Ekemezie Vivian']\n",
            "['Meke Mimbang Adrien']\n",
            "['Samuel']\n",
            "['Mohammed sunoma']\n",
            "['Igwe Paul']\n",
            "['Ubaida Muhammad Anka']\n",
            "['Flavourite']\n",
            "['Newton']\n",
            "['Alege Kamaldeen']\n",
            "['Son Of Issachar']\n",
            "['Jtbass']\n",
            "['Neech']\n",
            "['Salako Taiwo']\n"
          ],
          "name": "stdout"
        }
      ]
    },
    {
      "cell_type": "code",
      "metadata": {
        "id": "_9_e8Ihuny6L"
      },
      "source": [
        "def get_last_tweet(self):\n",
        "    tweet = client.user_timeline(id = name, count = 1)[0]\n",
        "    print(tweet.text)"
      ],
      "execution_count": 43,
      "outputs": []
    }
  ]
}